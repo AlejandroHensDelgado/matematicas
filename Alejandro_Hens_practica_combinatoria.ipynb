{
  "nbformat": 4,
  "nbformat_minor": 0,
  "metadata": {
    "colab": {
      "provenance": [],
      "collapsed_sections": []
    },
    "kernelspec": {
      "name": "python3",
      "display_name": "Python 3"
    },
    "language_info": {
      "name": "python"
    }
  },
  "cells": [
    {
      "cell_type": "markdown",
      "source": [
        "# Práctica 1. Combinatoria\n",
        "Resuelva los siguientes apartados de la práctica.  \n",
        "La práctica 1.1 se proporciona solucionada para que pueda servir como ejemplo.\n"
      ],
      "metadata": {
        "id": "VP-PLgSCPtPC"
      }
    },
    {
      "cell_type": "markdown",
      "source": [
        "## Práctica 1.1\n",
        "Cuatro amigos:\n",
        "* Antonio (A)\n",
        "* Begoña (B)\n",
        "* Cesar (C)\n",
        "* Diana (D)\n",
        "\n",
        "constituyen una asociación y tienen que asignar los siguientes cargos:\n",
        "* Presiente (1)\n",
        "* Vicepresidente (2)\n",
        "* Secretario (3)\n",
        "* Tesorero (4)\n",
        "\n",
        "Se pide:\n",
        "1. Escribiendo la solución en una celda de Markdown analice el caso indicando si se trata de variaciones, permutaciones o combinaciones, con o sin repetición o el caso que sea, y el motivo para clasificar el caso de esta forma.\n",
        "2. Utilizando fórmulas de $\\LaTeX$ calcule cuántos casos existen.\n",
        "3. Cree un programa en Python para calcule cuántos casos existen.\n",
        "4. Cree un programa en Python para imprimir todas las posibilidades y numérelas. Por ejemplo:\n",
        "    - 1 ABCD\n",
        "    - 2 ABDC\n",
        "    - 3 ACBD\n",
        "    - &#20; &#20; &#20; ... ... ..."
      ],
      "metadata": {
        "id": "6oyoxqfbQJDC"
      }
    },
    {
      "cell_type": "markdown",
      "source": [
        "### Solución 1.1\n",
        "* Estamos ante un caso de **permutaciones sin repetición** ya que:\n",
        " - El orden importa, no es lo mismo estar el nº1 que significa ser presidente que el nº 4 que corresponde al tesorero.\n",
        " - Intervienen todos. Son 4 amigos para 4 cargos, todos tienen cargo, lo que cambiar es el orden, esto es, el cargo que obtengan.\n",
        " - No se repiten elementos. Una persona no puede tener dos cargos simultaneamente.\n",
        "* Los casos que se obtienen con las permutaciones sin repetición son $P_{n}=n!$ que para este ejemplo son:\n",
        "\n",
        "$$P_{4}=4!=4 \\cdot 3 \\cdot 2 \\cdot 1 = 24$$"
      ],
      "metadata": {
        "id": "t5unIqR7jdZR"
      }
    },
    {
      "cell_type": "code",
      "source": [
        "import math\n",
        "p = math.factorial(4)\n",
        "print(\"Los casos son: \", p)\n",
        "print(\"Comprobación:  \", 4*3*2*1)"
      ],
      "metadata": {
        "id": "va3_l_-hmFS-"
      },
      "execution_count": null,
      "outputs": []
    },
    {
      "cell_type": "markdown",
      "source": [
        "#### Método 1\n",
        "Sin usar librería."
      ],
      "metadata": {
        "id": "kOM3pEAGnh8v"
      }
    },
    {
      "cell_type": "code",
      "source": [
        "lista = ['A', 'B', 'C', 'D']\n",
        "contador = 1\n",
        "\n",
        "for i in lista:\n",
        "    for j in lista:\n",
        "        for k in lista:\n",
        "            for l in lista:\n",
        "                if i != j and i != k and i != l and j != k and j != l and k != l:\n",
        "                    print(f\"{contador:2d} →  {i+j+k+l}\")\n",
        "                    contador += 1"
      ],
      "metadata": {
        "id": "5--ZpSoJncj3"
      },
      "execution_count": null,
      "outputs": []
    },
    {
      "cell_type": "markdown",
      "source": [
        "#### Método 2\n",
        "* Usamos la función `permutations` de la librería `itertools`.\n",
        "* Imprimimos todas las permutaciones de los elementos de una lista."
      ],
      "metadata": {
        "id": "2PoCD5GlnwS1"
      }
    },
    {
      "cell_type": "code",
      "source": [
        "from itertools import permutations\n",
        "\n",
        "perm = permutations(['A','B','C','D'])   # obtenemos todas las permutaciones de la lista \n",
        "\n",
        "for i in list(perm):                     # imprimimos todas las permutaciones \n",
        "    print (*i)                           # con el asterisco se muestran las listas sin corchetes ni comas"
      ],
      "metadata": {
        "id": "eKkB1gQnn6_P",
        "outputId": "f3108dd0-2bef-41f3-d4bc-35a3627ec192",
        "colab": {
          "base_uri": "https://localhost:8080/"
        }
      },
      "execution_count": null,
      "outputs": [
        {
          "output_type": "stream",
          "name": "stdout",
          "text": [
            "A B C D\n",
            "A B D C\n",
            "A C B D\n",
            "A C D B\n",
            "A D B C\n",
            "A D C B\n",
            "B A C D\n",
            "B A D C\n",
            "B C A D\n",
            "B C D A\n",
            "B D A C\n",
            "B D C A\n",
            "C A B D\n",
            "C A D B\n",
            "C B A D\n",
            "C B D A\n",
            "C D A B\n",
            "C D B A\n",
            "D A B C\n",
            "D A C B\n",
            "D B A C\n",
            "D B C A\n",
            "D C A B\n",
            "D C B A\n"
          ]
        }
      ]
    },
    {
      "cell_type": "markdown",
      "source": [
        "## Práctica 1.2\n",
        "Cuatro amigos:\n",
        "* Antonio (A)\n",
        "* Begoña (B)\n",
        "* Cesar (C)\n",
        "* Diana (D)\n",
        "\n",
        "constituyen una asociación y tienen que asignar los siguientes cargos:\n",
        "* Presiente (1)\n",
        "* Secretario (3)\n",
        "* Tesorero (4)\n",
        "\n",
        "Se pide:\n",
        "1. Escribiendo la solución en una celda de Markdown analice el caso indicando si se trata de variaciones, permutaciones o combinaciones, con o sin repetición o el caso que sea, y el motivo para clasificar el caso de esta forma.\n",
        "2. Utilizando fórmulas de $\\LaTeX$ calcule cuántos casos existen.\n",
        "3. Cree un programa en Python para calcule cuántos casos existen.\n",
        "4. Cree un programa en Python para imprimir todas las posibilidades y numérelas. Por ejemplo:\n",
        "    - 1 ABC\n",
        "    - 2 ABD\n",
        "    - 3 ACB\n",
        "    - &#20; &#20; &#20; ... ... ..."
      ],
      "metadata": {
        "id": "sxSuCpAFSBPJ"
      }
    },
    {
      "cell_type": "markdown",
      "source": [
        "### Solución 1.2"
      ],
      "metadata": {
        "id": "xx9qsw_ej9Pd"
      }
    },
    {
      "cell_type": "markdown",
      "source": [
        "1.Como se trasta de 4 amigos y hay 3 cargos todos los elementos no intervienen, además, no puede repetirse ya que parto de la lógica de que una misma persona no puede tener dos cargos diferentes, para concluir el orden influye ya que no es lo mismo ser presidente(posición1) que secretario(posición3) es por ello que es una **variación sin repeticion**.\n",
        "En este caso sería:\n",
        "$$V_{4,3}=\\frac{4!}{(4-3))!}= 24$$"
      ],
      "metadata": {
        "id": "6hmh86RZLb5Z"
      }
    },
    {
      "cell_type": "code",
      "source": [
        "import math\n",
        "\n",
        "print (\"Las variaciones de 4 elementos tomados de 3 en 3 son: : \", end=\"\")\n",
        "\n",
        "print (math.factorial(4)/math.factorial(4-3))"
      ],
      "metadata": {
        "colab": {
          "base_uri": "https://localhost:8080/"
        },
        "id": "ousGm0g_LW0C",
        "outputId": "3881d1be-2bde-4300-cb92-1496327cef31"
      },
      "execution_count": null,
      "outputs": [
        {
          "output_type": "stream",
          "name": "stdout",
          "text": [
            "Las variaciones de 4 elementos tomados de 3 en 3 son: : 24.0\n"
          ]
        }
      ]
    },
    {
      "cell_type": "code",
      "source": [
        "import itertools\n",
        "it = itertools.permutations(['a','b','c','d'], 3)\n",
        "li = list(it)\n",
        "print(\"Estas son todas las variaciones posibles:\")\n",
        "\n",
        "\n",
        "for i in range(len(li)):\n",
        "    print(f\"La variación {i+1:2d}-> \", *li[i])"
      ],
      "metadata": {
        "colab": {
          "base_uri": "https://localhost:8080/"
        },
        "id": "9CuHjVIQLULT",
        "outputId": "776fdf51-e24e-4fe7-97e1-f9269ce6900f"
      },
      "execution_count": null,
      "outputs": [
        {
          "output_type": "stream",
          "name": "stdout",
          "text": [
            "Estas son todas las variaciones posibles:\n",
            "La variación  1->  a b c\n",
            "La variación  2->  a b d\n",
            "La variación  3->  a c b\n",
            "La variación  4->  a c d\n",
            "La variación  5->  a d b\n",
            "La variación  6->  a d c\n",
            "La variación  7->  b a c\n",
            "La variación  8->  b a d\n",
            "La variación  9->  b c a\n",
            "La variación 10->  b c d\n",
            "La variación 11->  b d a\n",
            "La variación 12->  b d c\n",
            "La variación 13->  c a b\n",
            "La variación 14->  c a d\n",
            "La variación 15->  c b a\n",
            "La variación 16->  c b d\n",
            "La variación 17->  c d a\n",
            "La variación 18->  c d b\n",
            "La variación 19->  d a b\n",
            "La variación 20->  d a c\n",
            "La variación 21->  d b a\n",
            "La variación 22->  d b c\n",
            "La variación 23->  d c a\n",
            "La variación 24->  d c b\n"
          ]
        }
      ]
    },
    {
      "cell_type": "markdown",
      "source": [
        "## Práctica 1.3\n",
        "Invente un caso de **variaciones sin repetición**.\n",
        "Se pide contestar a los mismos puntos que el caso anterior."
      ],
      "metadata": {
        "id": "D0S1DjF4MKmz"
      }
    },
    {
      "cell_type": "markdown",
      "source": [
        "Hay 4 coches:\n",
        "* Lamborghini\n",
        "*Porsche\n",
        "*Ferrari\n",
        "*Mclaren\n",
        "\n",
        "El Porsche está tuneado y por eso puede correr a velocidades similares que los otros.Los coches se juegan el **1** puesto, el **2** puesto y el **3** puesto"
      ],
      "metadata": {
        "id": "VEzsm9GUvjyL"
      }
    },
    {
      "cell_type": "markdown",
      "source": [
        "### Solución 1.3\n",
        "El **orden importa** ya que no es lo mismo acabar primero que tercero, **No todos los elementos intervienen** ya que hay uno de ellos que se queda fuera y un mismo coche no puede quedar en dos puestos similares así que **no hay repetición**.\n",
        "\n",
        "Se trata de una **variación sin repetición**\n",
        "\n",
        "En este caso:\n",
        "$$V_{4,3}=\\frac{4!}{(4-3))!}= 24$$"
      ],
      "metadata": {
        "id": "AfyuPIASj_20"
      }
    },
    {
      "cell_type": "code",
      "source": [
        "import math\n",
        "\n",
        "print (\"El número total de variaciones sin repetición es de ->  \", end=\"\")\n",
        "\n",
        "print (math.factorial(4)/math.factorial(4-3))"
      ],
      "metadata": {
        "id": "znufG4WwyltD",
        "outputId": "a0a5432d-8543-4dca-cb27-e4ff52b3fa10",
        "colab": {
          "base_uri": "https://localhost:8080/"
        }
      },
      "execution_count": null,
      "outputs": [
        {
          "output_type": "stream",
          "name": "stdout",
          "text": [
            "El número total de variaciones sin repetición es de ->  24.0\n"
          ]
        }
      ]
    },
    {
      "cell_type": "code",
      "source": [
        "import itertools\n",
        "it = itertools.permutations(['Lamborghini','Porsche','Ferrari','Mclaren'],3)\n",
        "li = list(it)\n",
        "print(\"Este es el total de variaciones que hay:\")\n",
        "\n",
        "\n",
        "for i in range(len(li)):\n",
        "    \n",
        "    print(f\"Variación {i+1:2d}: \", *li[i])"
      ],
      "metadata": {
        "id": "jt7akzSqyIga",
        "outputId": "31e372eb-3186-44b2-adc0-af9250e34690",
        "colab": {
          "base_uri": "https://localhost:8080/"
        }
      },
      "execution_count": null,
      "outputs": [
        {
          "output_type": "stream",
          "name": "stdout",
          "text": [
            "Este es el total de variaciones que hay:\n",
            "Variación  1:  Lamborghini Porsche Ferrari\n",
            "Variación  2:  Lamborghini Porsche Mclaren\n",
            "Variación  3:  Lamborghini Ferrari Porsche\n",
            "Variación  4:  Lamborghini Ferrari Mclaren\n",
            "Variación  5:  Lamborghini Mclaren Porsche\n",
            "Variación  6:  Lamborghini Mclaren Ferrari\n",
            "Variación  7:  Porsche Lamborghini Ferrari\n",
            "Variación  8:  Porsche Lamborghini Mclaren\n",
            "Variación  9:  Porsche Ferrari Lamborghini\n",
            "Variación 10:  Porsche Ferrari Mclaren\n",
            "Variación 11:  Porsche Mclaren Lamborghini\n",
            "Variación 12:  Porsche Mclaren Ferrari\n",
            "Variación 13:  Ferrari Lamborghini Porsche\n",
            "Variación 14:  Ferrari Lamborghini Mclaren\n",
            "Variación 15:  Ferrari Porsche Lamborghini\n",
            "Variación 16:  Ferrari Porsche Mclaren\n",
            "Variación 17:  Ferrari Mclaren Lamborghini\n",
            "Variación 18:  Ferrari Mclaren Porsche\n",
            "Variación 19:  Mclaren Lamborghini Porsche\n",
            "Variación 20:  Mclaren Lamborghini Ferrari\n",
            "Variación 21:  Mclaren Porsche Lamborghini\n",
            "Variación 22:  Mclaren Porsche Ferrari\n",
            "Variación 23:  Mclaren Ferrari Lamborghini\n",
            "Variación 24:  Mclaren Ferrari Porsche\n"
          ]
        }
      ]
    },
    {
      "cell_type": "markdown",
      "source": [
        "## Práctica 1.4\n",
        "Alejandro quiere saber con una contraseña 4 números del 1 al 5 cuantas contraseñas puede realizar.\n",
        "\n",
        "\n",
        "\n",
        "\n",
        "\n"
      ],
      "metadata": {
        "id": "gvlnqCaRMTua"
      }
    },
    {
      "cell_type": "markdown",
      "source": [
        "### Solución 1.4\n",
        "\n"
      ],
      "metadata": {
        "id": "hzvsgRDbkCy1"
      }
    },
    {
      "cell_type": "code",
      "source": [
        "import itertools \n",
        "\n",
        "def variaciones_con_repeticion(n, seq):\n",
        "      contador=0\n",
        "      for p in itertools.product(seq, repeat=n):\n",
        "            contador+= 1\n",
        "            print(\"El número de caso\",contador,\"-->\", \"\".join(p))\n",
        "\n",
        "secuencia = '12345'\n",
        "m= len(secuencia)\n",
        "n= 3\n",
        "variaciones_con_repeticion(n,secuencia)\n",
        "\n",
        "print(f\"El número de variaciones con repetición  son {m**n}\")"
      ],
      "metadata": {
        "id": "4kBW6iVcF85r",
        "colab": {
          "base_uri": "https://localhost:8080/"
        },
        "outputId": "72934535-e732-495b-da86-66245a9ac3c3"
      },
      "execution_count": 21,
      "outputs": [
        {
          "output_type": "stream",
          "name": "stdout",
          "text": [
            "El número de caso 1 --> 111\n",
            "El número de caso 2 --> 112\n",
            "El número de caso 3 --> 113\n",
            "El número de caso 4 --> 114\n",
            "El número de caso 5 --> 115\n",
            "El número de caso 6 --> 121\n",
            "El número de caso 7 --> 122\n",
            "El número de caso 8 --> 123\n",
            "El número de caso 9 --> 124\n",
            "El número de caso 10 --> 125\n",
            "El número de caso 11 --> 131\n",
            "El número de caso 12 --> 132\n",
            "El número de caso 13 --> 133\n",
            "El número de caso 14 --> 134\n",
            "El número de caso 15 --> 135\n",
            "El número de caso 16 --> 141\n",
            "El número de caso 17 --> 142\n",
            "El número de caso 18 --> 143\n",
            "El número de caso 19 --> 144\n",
            "El número de caso 20 --> 145\n",
            "El número de caso 21 --> 151\n",
            "El número de caso 22 --> 152\n",
            "El número de caso 23 --> 153\n",
            "El número de caso 24 --> 154\n",
            "El número de caso 25 --> 155\n",
            "El número de caso 26 --> 211\n",
            "El número de caso 27 --> 212\n",
            "El número de caso 28 --> 213\n",
            "El número de caso 29 --> 214\n",
            "El número de caso 30 --> 215\n",
            "El número de caso 31 --> 221\n",
            "El número de caso 32 --> 222\n",
            "El número de caso 33 --> 223\n",
            "El número de caso 34 --> 224\n",
            "El número de caso 35 --> 225\n",
            "El número de caso 36 --> 231\n",
            "El número de caso 37 --> 232\n",
            "El número de caso 38 --> 233\n",
            "El número de caso 39 --> 234\n",
            "El número de caso 40 --> 235\n",
            "El número de caso 41 --> 241\n",
            "El número de caso 42 --> 242\n",
            "El número de caso 43 --> 243\n",
            "El número de caso 44 --> 244\n",
            "El número de caso 45 --> 245\n",
            "El número de caso 46 --> 251\n",
            "El número de caso 47 --> 252\n",
            "El número de caso 48 --> 253\n",
            "El número de caso 49 --> 254\n",
            "El número de caso 50 --> 255\n",
            "El número de caso 51 --> 311\n",
            "El número de caso 52 --> 312\n",
            "El número de caso 53 --> 313\n",
            "El número de caso 54 --> 314\n",
            "El número de caso 55 --> 315\n",
            "El número de caso 56 --> 321\n",
            "El número de caso 57 --> 322\n",
            "El número de caso 58 --> 323\n",
            "El número de caso 59 --> 324\n",
            "El número de caso 60 --> 325\n",
            "El número de caso 61 --> 331\n",
            "El número de caso 62 --> 332\n",
            "El número de caso 63 --> 333\n",
            "El número de caso 64 --> 334\n",
            "El número de caso 65 --> 335\n",
            "El número de caso 66 --> 341\n",
            "El número de caso 67 --> 342\n",
            "El número de caso 68 --> 343\n",
            "El número de caso 69 --> 344\n",
            "El número de caso 70 --> 345\n",
            "El número de caso 71 --> 351\n",
            "El número de caso 72 --> 352\n",
            "El número de caso 73 --> 353\n",
            "El número de caso 74 --> 354\n",
            "El número de caso 75 --> 355\n",
            "El número de caso 76 --> 411\n",
            "El número de caso 77 --> 412\n",
            "El número de caso 78 --> 413\n",
            "El número de caso 79 --> 414\n",
            "El número de caso 80 --> 415\n",
            "El número de caso 81 --> 421\n",
            "El número de caso 82 --> 422\n",
            "El número de caso 83 --> 423\n",
            "El número de caso 84 --> 424\n",
            "El número de caso 85 --> 425\n",
            "El número de caso 86 --> 431\n",
            "El número de caso 87 --> 432\n",
            "El número de caso 88 --> 433\n",
            "El número de caso 89 --> 434\n",
            "El número de caso 90 --> 435\n",
            "El número de caso 91 --> 441\n",
            "El número de caso 92 --> 442\n",
            "El número de caso 93 --> 443\n",
            "El número de caso 94 --> 444\n",
            "El número de caso 95 --> 445\n",
            "El número de caso 96 --> 451\n",
            "El número de caso 97 --> 452\n",
            "El número de caso 98 --> 453\n",
            "El número de caso 99 --> 454\n",
            "El número de caso 100 --> 455\n",
            "El número de caso 101 --> 511\n",
            "El número de caso 102 --> 512\n",
            "El número de caso 103 --> 513\n",
            "El número de caso 104 --> 514\n",
            "El número de caso 105 --> 515\n",
            "El número de caso 106 --> 521\n",
            "El número de caso 107 --> 522\n",
            "El número de caso 108 --> 523\n",
            "El número de caso 109 --> 524\n",
            "El número de caso 110 --> 525\n",
            "El número de caso 111 --> 531\n",
            "El número de caso 112 --> 532\n",
            "El número de caso 113 --> 533\n",
            "El número de caso 114 --> 534\n",
            "El número de caso 115 --> 535\n",
            "El número de caso 116 --> 541\n",
            "El número de caso 117 --> 542\n",
            "El número de caso 118 --> 543\n",
            "El número de caso 119 --> 544\n",
            "El número de caso 120 --> 545\n",
            "El número de caso 121 --> 551\n",
            "El número de caso 122 --> 552\n",
            "El número de caso 123 --> 553\n",
            "El número de caso 124 --> 554\n",
            "El número de caso 125 --> 555\n",
            "El número de variaciones con repetición  son 125\n"
          ]
        }
      ]
    },
    {
      "cell_type": "markdown",
      "source": [
        "## Práctica 1.5\n",
        "Carlos tiene un nuevo teléfono y está en ajustes guardando contraseñas y quiere saber con los números 4,2 y 8 cuantas combinaciones posibles hay (siendo cada número distinto).\n",
        "\n"
      ],
      "metadata": {
        "id": "0OCAC-I-G5F6"
      }
    },
    {
      "cell_type": "markdown",
      "source": [
        "### Solución 1.5\n",
        "\n",
        "En este caso el orden influye ya que 4,8,2 no es lo mismo a 8,2,4. Además, al ser cada contraseña diferente no se pueden repetir, ya que los números han de ser distintos y para concluir todos los elementos intervienen.\n",
        "\n",
        "Es por ello que se trata de una **permutación sin repetición**\n",
        "\n",
        "En este caso en concreto la fórmula sería tal que así:\n",
        "\n",
        "$$3!=3 \\cdot 2 \\cdot 1 = 6$$"
      ],
      "metadata": {
        "id": "FvLcj6XXkFOV"
      }
    },
    {
      "cell_type": "code",
      "source": [
        "lista = ['8', '2', '4']\n",
        "print(\"Este es el total de contraseñas posibles:\")\n",
        "numero_caso = 1\n",
        "for i in lista:\n",
        "   for j in lista:\n",
        "    for k in lista:\n",
        "        if i != j and i != k  and j != k  :\n",
        "         print(\"El número de caso\", numero_caso ,\"-->\" , i+j+k)\n",
        "         numero_caso+=1\n",
        "         \n",
        "          "
      ],
      "metadata": {
        "id": "64GjVeJdL4Gs",
        "colab": {
          "base_uri": "https://localhost:8080/"
        },
        "outputId": "96782fb5-ecc0-4bba-bbfc-9e263b93daf7"
      },
      "execution_count": 33,
      "outputs": [
        {
          "output_type": "stream",
          "name": "stdout",
          "text": [
            "Este es el total de contraseñas posibles:\n",
            "El número de caso 1 --> 824\n",
            "El número de caso 2 --> 842\n",
            "El número de caso 3 --> 284\n",
            "El número de caso 4 --> 248\n",
            "El número de caso 5 --> 482\n",
            "El número de caso 6 --> 428\n"
          ]
        }
      ]
    },
    {
      "cell_type": "markdown",
      "source": [
        "## Práctica 1.6\n",
        "Carlos quiere hacer saber cuantas banderas puede crear con el color blanco el azul y el verde\n",
        "\n",
        "¿Cuantas banderas puede crear?"
      ],
      "metadata": {
        "id": "YWUXIczqLj3W"
      }
    },
    {
      "cell_type": "markdown",
      "source": [
        "### Solución 1.6\n",
        "Se trata de una permutación con repetición ya que influye el orden ya que no es lo mismo azul verde y blanco que verde blanco y azul. Además intervienten todos los elementos y si se repiten los elementos."
      ],
      "metadata": {
        "id": "siAxWVVekHs6"
      }
    },
    {
      "cell_type": "markdown",
      "source": [
        "$PR_{m}^{n_1,n_2...n_k}=\\frac{m!}{n_1!·n_2!·...n_k!}·$"
      ],
      "metadata": {
        "id": "CFFa56KVS0oz"
      }
    },
    {
      "cell_type": "code",
      "source": [
        "lista = ['Blanco', 'Azúl','Verde']\n",
        "numero_caso = 1\n",
        "for i in lista:\n",
        "    for j in lista:\n",
        "        for k in lista:\n",
        "            for l in lista:\n",
        "                    print(\"El número de caso \", numero_caso, \"-->\", i+\" \"+ j+\" \"+ k)\n",
        "                    numero_caso+=1\n",
        "                       \n",
        "                   "
      ],
      "metadata": {
        "colab": {
          "base_uri": "https://localhost:8080/"
        },
        "id": "9nG1Izh-RXyL",
        "outputId": "7c7b92cb-bbdb-47f0-f9d0-2228d0680712"
      },
      "execution_count": 30,
      "outputs": [
        {
          "output_type": "stream",
          "name": "stdout",
          "text": [
            "El número de caso  1 --> Blanco Blanco Blanco\n",
            "El número de caso  2 --> Blanco Blanco Blanco\n",
            "El número de caso  3 --> Blanco Blanco Blanco\n",
            "El número de caso  4 --> Blanco Blanco Azúl\n",
            "El número de caso  5 --> Blanco Blanco Azúl\n",
            "El número de caso  6 --> Blanco Blanco Azúl\n",
            "El número de caso  7 --> Blanco Blanco Verde\n",
            "El número de caso  8 --> Blanco Blanco Verde\n",
            "El número de caso  9 --> Blanco Blanco Verde\n",
            "El número de caso  10 --> Blanco Azúl Blanco\n",
            "El número de caso  11 --> Blanco Azúl Blanco\n",
            "El número de caso  12 --> Blanco Azúl Blanco\n",
            "El número de caso  13 --> Blanco Azúl Azúl\n",
            "El número de caso  14 --> Blanco Azúl Azúl\n",
            "El número de caso  15 --> Blanco Azúl Azúl\n",
            "El número de caso  16 --> Blanco Azúl Verde\n",
            "El número de caso  17 --> Blanco Azúl Verde\n",
            "El número de caso  18 --> Blanco Azúl Verde\n",
            "El número de caso  19 --> Blanco Verde Blanco\n",
            "El número de caso  20 --> Blanco Verde Blanco\n",
            "El número de caso  21 --> Blanco Verde Blanco\n",
            "El número de caso  22 --> Blanco Verde Azúl\n",
            "El número de caso  23 --> Blanco Verde Azúl\n",
            "El número de caso  24 --> Blanco Verde Azúl\n",
            "El número de caso  25 --> Blanco Verde Verde\n",
            "El número de caso  26 --> Blanco Verde Verde\n",
            "El número de caso  27 --> Blanco Verde Verde\n",
            "El número de caso  28 --> Azúl Blanco Blanco\n",
            "El número de caso  29 --> Azúl Blanco Blanco\n",
            "El número de caso  30 --> Azúl Blanco Blanco\n",
            "El número de caso  31 --> Azúl Blanco Azúl\n",
            "El número de caso  32 --> Azúl Blanco Azúl\n",
            "El número de caso  33 --> Azúl Blanco Azúl\n",
            "El número de caso  34 --> Azúl Blanco Verde\n",
            "El número de caso  35 --> Azúl Blanco Verde\n",
            "El número de caso  36 --> Azúl Blanco Verde\n",
            "El número de caso  37 --> Azúl Azúl Blanco\n",
            "El número de caso  38 --> Azúl Azúl Blanco\n",
            "El número de caso  39 --> Azúl Azúl Blanco\n",
            "El número de caso  40 --> Azúl Azúl Azúl\n",
            "El número de caso  41 --> Azúl Azúl Azúl\n",
            "El número de caso  42 --> Azúl Azúl Azúl\n",
            "El número de caso  43 --> Azúl Azúl Verde\n",
            "El número de caso  44 --> Azúl Azúl Verde\n",
            "El número de caso  45 --> Azúl Azúl Verde\n",
            "El número de caso  46 --> Azúl Verde Blanco\n",
            "El número de caso  47 --> Azúl Verde Blanco\n",
            "El número de caso  48 --> Azúl Verde Blanco\n",
            "El número de caso  49 --> Azúl Verde Azúl\n",
            "El número de caso  50 --> Azúl Verde Azúl\n",
            "El número de caso  51 --> Azúl Verde Azúl\n",
            "El número de caso  52 --> Azúl Verde Verde\n",
            "El número de caso  53 --> Azúl Verde Verde\n",
            "El número de caso  54 --> Azúl Verde Verde\n",
            "El número de caso  55 --> Verde Blanco Blanco\n",
            "El número de caso  56 --> Verde Blanco Blanco\n",
            "El número de caso  57 --> Verde Blanco Blanco\n",
            "El número de caso  58 --> Verde Blanco Azúl\n",
            "El número de caso  59 --> Verde Blanco Azúl\n",
            "El número de caso  60 --> Verde Blanco Azúl\n",
            "El número de caso  61 --> Verde Blanco Verde\n",
            "El número de caso  62 --> Verde Blanco Verde\n",
            "El número de caso  63 --> Verde Blanco Verde\n",
            "El número de caso  64 --> Verde Azúl Blanco\n",
            "El número de caso  65 --> Verde Azúl Blanco\n",
            "El número de caso  66 --> Verde Azúl Blanco\n",
            "El número de caso  67 --> Verde Azúl Azúl\n",
            "El número de caso  68 --> Verde Azúl Azúl\n",
            "El número de caso  69 --> Verde Azúl Azúl\n",
            "El número de caso  70 --> Verde Azúl Verde\n",
            "El número de caso  71 --> Verde Azúl Verde\n",
            "El número de caso  72 --> Verde Azúl Verde\n",
            "El número de caso  73 --> Verde Verde Blanco\n",
            "El número de caso  74 --> Verde Verde Blanco\n",
            "El número de caso  75 --> Verde Verde Blanco\n",
            "El número de caso  76 --> Verde Verde Azúl\n",
            "El número de caso  77 --> Verde Verde Azúl\n",
            "El número de caso  78 --> Verde Verde Azúl\n",
            "El número de caso  79 --> Verde Verde Verde\n",
            "El número de caso  80 --> Verde Verde Verde\n",
            "El número de caso  81 --> Verde Verde Verde\n"
          ]
        }
      ]
    },
    {
      "cell_type": "code",
      "source": [],
      "metadata": {
        "id": "HawKKT84aUES"
      },
      "execution_count": null,
      "outputs": []
    },
    {
      "cell_type": "markdown",
      "source": [
        "## Práctica 1.7\n",
        "Vas a un restaurante italiano y te fijas en las pizzas, hay una promoción que te permite hacer tu propia pizza customizada, debes de entre los 6 ingredientes elegir 4 para tu pizza. Entre estos se encuentran:\n",
        "* Queso Cheddar (A)\n",
        "*Queso Gouda (B)\n",
        "* Jamón York (C)\n",
        "* Jamón Ibérico (D)\n",
        "* Chorizo (E)\n",
        "* Carne (F)\n",
        "\n",
        "*¿Cuantas combinaciones puedes hacer con estos ingredientes?*\n",
        "\n"
      ],
      "metadata": {
        "id": "opCrIDtJGg1R"
      }
    },
    {
      "cell_type": "markdown",
      "source": [
        "##Solución 1.7\n",
        "\n",
        "Se trata de una **combinación sin repetición** ya que no influye el orden ya que da igual poner carne y queso que queso y carne. Por otra parte no se pueden repetir ya que debes de elegir 5 ingredientes diferentes para tu pizza. \n",
        "\n",
        "En este caso la fórmula sería de la siguiente forma:\n",
        "$$\\binom{6}{4} =\\frac{6!}{4!(6-4)!} = \\frac{6!}{4!2!} = 15$$"
      ],
      "metadata": {
        "id": "PVd4-ZgZKDWs"
      }
    },
    {
      "cell_type": "code",
      "source": [
        "from itertools import combinations\n",
        "c = combinations('ABCDEF',4)\n",
        "numero_caso = 1\n",
        "\n",
        "for i in c:\n",
        "    print(\"Numero de Caso\", numero_caso,\"-->\", \"\".join(i), end=\" \")\n",
        "    print()\n",
        "    print() \n",
        "    numero_caso= numero_caso+1\n",
        "\n"
      ],
      "metadata": {
        "id": "LOb-gGOwUdsr",
        "outputId": "98fa6261-faf8-45d3-972b-e95e48a3f19b",
        "colab": {
          "base_uri": "https://localhost:8080/"
        }
      },
      "execution_count": 18,
      "outputs": [
        {
          "output_type": "stream",
          "name": "stdout",
          "text": [
            "Numero de Caso 1 --> ABCD \n",
            "\n",
            "Numero de Caso 2 --> ABCE \n",
            "\n",
            "Numero de Caso 3 --> ABCF \n",
            "\n",
            "Numero de Caso 4 --> ABDE \n",
            "\n",
            "Numero de Caso 5 --> ABDF \n",
            "\n",
            "Numero de Caso 6 --> ABEF \n",
            "\n",
            "Numero de Caso 7 --> ACDE \n",
            "\n",
            "Numero de Caso 8 --> ACDF \n",
            "\n",
            "Numero de Caso 9 --> ACEF \n",
            "\n",
            "Numero de Caso 10 --> ADEF \n",
            "\n",
            "Numero de Caso 11 --> BCDE \n",
            "\n",
            "Numero de Caso 12 --> BCDF \n",
            "\n",
            "Numero de Caso 13 --> BCEF \n",
            "\n",
            "Numero de Caso 14 --> BDEF \n",
            "\n",
            "Numero de Caso 15 --> CDEF \n",
            "\n"
          ]
        }
      ]
    },
    {
      "cell_type": "markdown",
      "source": [
        "## Práctica 1.8\n",
        "\n",
        "Se pide contestar a los mismos puntos que el caso anterior.\n",
        "En una tienda de videojuegos he ganado un sorteo que me permite escoger entre cinco tipos de videojuegos cuatro de ellos. ¿De cuántas formas puedo escoger cuatro videojuegos?\n",
        "\n",
        "Tipos de videojuegos: (A,B,C,D)"
      ],
      "metadata": {
        "id": "-7Y5WWlDGzAR"
      }
    },
    {
      "cell_type": "markdown",
      "source": [
        "### Solución 1.8\n",
        "Se trata de una **combinación con repetición**, el orden no influye ya que da igual que escoja primero uno de estrategia y luego uno de conducción. No intervienen todos los elementos y sí se pueden repetir los elementos ya que puedo elegir dos juegos del mismo tipo.\n",
        "\n",
        "En este caso la fórmula sería tal que:\n",
        "$$CR^4_5 = \\binom{5+4-1}{4} = \\frac{(5+4-1)!}{4! \\cdot (5-1)!}=70 $$"
      ],
      "metadata": {
        "id": "ReRULqd8kL1F"
      }
    },
    {
      "cell_type": "code",
      "source": [
        "import math\n",
        "from itertools import combinations_with_replacement\n",
        "c = combinations_with_replacement('ABDCE', 4)\n",
        "numero_caso = 1\n",
        "for i in c:\n",
        "    print(\"El número de caso\", numero_caso ,\"-->\",*i)\n",
        "    numero_caso+=1\n",
        "     \n",
        "m = 5\n",
        "n = 4\n",
        "Mifactorial = int(math.factorial(m+n-1)/math.factorial(n)/math.factorial(m-1))\n",
        "print(\"Los casos que se obtienen son \",Mifactorial)"
      ],
      "metadata": {
        "colab": {
          "base_uri": "https://localhost:8080/"
        },
        "id": "SlkcV14PN0ID",
        "outputId": "db854bee-cad0-4399-ff29-be4edac4f2a3"
      },
      "execution_count": 50,
      "outputs": [
        {
          "output_type": "stream",
          "name": "stdout",
          "text": [
            "El número de caso 1 --> A A A A\n",
            "El número de caso 2 --> A A A B\n",
            "El número de caso 3 --> A A A D\n",
            "El número de caso 4 --> A A A C\n",
            "El número de caso 5 --> A A A E\n",
            "El número de caso 6 --> A A B B\n",
            "El número de caso 7 --> A A B D\n",
            "El número de caso 8 --> A A B C\n",
            "El número de caso 9 --> A A B E\n",
            "El número de caso 10 --> A A D D\n",
            "El número de caso 11 --> A A D C\n",
            "El número de caso 12 --> A A D E\n",
            "El número de caso 13 --> A A C C\n",
            "El número de caso 14 --> A A C E\n",
            "El número de caso 15 --> A A E E\n",
            "El número de caso 16 --> A B B B\n",
            "El número de caso 17 --> A B B D\n",
            "El número de caso 18 --> A B B C\n",
            "El número de caso 19 --> A B B E\n",
            "El número de caso 20 --> A B D D\n",
            "El número de caso 21 --> A B D C\n",
            "El número de caso 22 --> A B D E\n",
            "El número de caso 23 --> A B C C\n",
            "El número de caso 24 --> A B C E\n",
            "El número de caso 25 --> A B E E\n",
            "El número de caso 26 --> A D D D\n",
            "El número de caso 27 --> A D D C\n",
            "El número de caso 28 --> A D D E\n",
            "El número de caso 29 --> A D C C\n",
            "El número de caso 30 --> A D C E\n",
            "El número de caso 31 --> A D E E\n",
            "El número de caso 32 --> A C C C\n",
            "El número de caso 33 --> A C C E\n",
            "El número de caso 34 --> A C E E\n",
            "El número de caso 35 --> A E E E\n",
            "El número de caso 36 --> B B B B\n",
            "El número de caso 37 --> B B B D\n",
            "El número de caso 38 --> B B B C\n",
            "El número de caso 39 --> B B B E\n",
            "El número de caso 40 --> B B D D\n",
            "El número de caso 41 --> B B D C\n",
            "El número de caso 42 --> B B D E\n",
            "El número de caso 43 --> B B C C\n",
            "El número de caso 44 --> B B C E\n",
            "El número de caso 45 --> B B E E\n",
            "El número de caso 46 --> B D D D\n",
            "El número de caso 47 --> B D D C\n",
            "El número de caso 48 --> B D D E\n",
            "El número de caso 49 --> B D C C\n",
            "El número de caso 50 --> B D C E\n",
            "El número de caso 51 --> B D E E\n",
            "El número de caso 52 --> B C C C\n",
            "El número de caso 53 --> B C C E\n",
            "El número de caso 54 --> B C E E\n",
            "El número de caso 55 --> B E E E\n",
            "El número de caso 56 --> D D D D\n",
            "El número de caso 57 --> D D D C\n",
            "El número de caso 58 --> D D D E\n",
            "El número de caso 59 --> D D C C\n",
            "El número de caso 60 --> D D C E\n",
            "El número de caso 61 --> D D E E\n",
            "El número de caso 62 --> D C C C\n",
            "El número de caso 63 --> D C C E\n",
            "El número de caso 64 --> D C E E\n",
            "El número de caso 65 --> D E E E\n",
            "El número de caso 66 --> C C C C\n",
            "El número de caso 67 --> C C C E\n",
            "El número de caso 68 --> C C E E\n",
            "El número de caso 69 --> C E E E\n",
            "El número de caso 70 --> E E E E\n",
            "Los casos que se obtienen son  70\n"
          ]
        }
      ]
    },
    {
      "cell_type": "markdown",
      "source": [
        "## Práctica 1.9\n",
        "En el gobierno se crea una unidad de crisis formada por el presidente (P) y 4 ministros (A,B,C,D) que se reúnen sentados alrededor de una **mesa redonda**.\n",
        "\n",
        "Se pide:  \n",
        "1. Calcule de cuantas formas pueden llegar a sentarse si el ministro de defensa (D) siempre ha de estar al lado del presidente (P). Escriba la solución en una celda de Markdown utilizando fórmulas en $\\LaTeX$  explicando el caso.\n",
        "2. Cree un programa en Python para calcular el número de casos que se pueden dar al sentarse en la mesa.\n",
        "3. Cree un programa en Python para imprimir todas las posibilidades y numérelas. Por ejemplo:\n",
        "    - 1 PDABC\n",
        "    - 2 PDACB\n",
        "    - 3 PDBCD\n",
        "    - 4 PDBDC\n",
        "    - 5 PDCAB\n",
        "    - 6 PDCBA\n",
        "    - 7 DPABC\n",
        "    - 8 DPACB\n",
        "    - &#20; &#20; &#20; ... ... ...\n"
      ],
      "metadata": {
        "id": "SOzxh_YgHnDG"
      }
    },
    {
      "cell_type": "markdown",
      "source": [
        "### Solución 1.9\n"
      ],
      "metadata": {
        "id": "F8kV034OkQZX"
      }
    },
    {
      "cell_type": "code",
      "source": [
        "from itertools import permutations\n",
        "\n",
        "p = list(permutations('ABC'))   \n",
        "\n",
        "\n",
        "\n",
        "texto = ''   \n",
        "\n",
        "for v in p:\n",
        "\n",
        "    texto += 'PD' + ''.join(v) + ','   \n",
        "\n",
        "for v in p:\n",
        "\n",
        "    texto += 'DP' + ''.join(v) + ','   \n",
        "\n",
        "\n",
        "\n",
        "print(texto[:-1])  "
      ],
      "metadata": {
        "colab": {
          "base_uri": "https://localhost:8080/"
        },
        "id": "X-iQZiU6bhwS",
        "outputId": "0e83ce25-6822-4fd0-cd0b-21464563289a"
      },
      "execution_count": null,
      "outputs": [
        {
          "output_type": "stream",
          "name": "stdout",
          "text": [
            "PDABC,PDACB,PDBAC,PDBCA,PDCAB,PDCBA,DPABC,DPACB,DPBAC,DPBCA,DPCAB,DPCBA\n"
          ]
        }
      ]
    },
    {
      "cell_type": "markdown",
      "source": [
        "## Práctica 1.10\n",
        "* Realice una breve explicación teórica del **triángulo de Pascal**, o también llamado triángulo de Tartaglia, y de las fórmulas de los números combinatorios.\n",
        "* Cree un programa en Python para hacer el triángulo de Pascal."
      ],
      "metadata": {
        "id": "eiHdMOP-MkrZ"
      }
    },
    {
      "cell_type": "markdown",
      "source": [
        "### Solución 1.10\n",
        "Se trata de un triángulo, este triángulo está formado por números enteros, además este es infinito y también simétrico. Se comienza con el número 1 en el pico del triángulo y se van posicionando números que entre ellos son la suma de los dos números que tienen encima ( explicado es un poco dificil de entender pero con el programa en Python se entenderá mejor)\n",
        "\n",
        "En este programa vas a poder introducir el número de filas que quieres que este compuesto el triángulo de Pascal y así ver como funciona\n",
        "\n",
        "El programa en cuestión:"
      ],
      "metadata": {
        "id": "j0UT2579kTSM"
      }
    },
    {
      "cell_type": "code",
      "source": [
        "num = int(input(\"Por favor, escribe el número de filas que deseas en el triángulo:\"))\n",
        "  \n",
        "for n in range(num):\n",
        "    print(' '*(num-n), end='')\n",
        "\n",
        "    print(' '.join(map(str, str(11**n))))"
      ],
      "metadata": {
        "id": "BGgXyBzxCIyZ"
      },
      "execution_count": null,
      "outputs": []
    }
  ]
}