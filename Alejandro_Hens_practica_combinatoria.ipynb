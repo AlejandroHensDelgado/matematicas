{
  "nbformat": 4,
  "nbformat_minor": 0,
  "metadata": {
    "colab": {
      "provenance": [],
      "collapsed_sections": []
    },
    "kernelspec": {
      "name": "python3",
      "display_name": "Python 3"
    },
    "language_info": {
      "name": "python"
    }
  },
  "cells": [
    {
      "cell_type": "markdown",
      "source": [
        "# Práctica 1. Combinatoria\n",
        "Resuelva los siguientes apartados de la práctica.  \n",
        "La práctica 1.1 se proporciona solucionada para que pueda servir como ejemplo.\n"
      ],
      "metadata": {
        "id": "VP-PLgSCPtPC"
      }
    },
    {
      "cell_type": "markdown",
      "source": [
        "## Práctica 1.1\n",
        "Cuatro amigos:\n",
        "* Antonio (A)\n",
        "* Begoña (B)\n",
        "* Cesar (C)\n",
        "* Diana (D)\n",
        "\n",
        "constituyen una asociación y tienen que asignar los siguientes cargos:\n",
        "* Presiente (1)\n",
        "* Vicepresidente (2)\n",
        "* Secretario (3)\n",
        "* Tesorero (4)\n",
        "\n",
        "Se pide:\n",
        "1. Escribiendo la solución en una celda de Markdown analice el caso indicando si se trata de variaciones, permutaciones o combinaciones, con o sin repetición o el caso que sea, y el motivo para clasificar el caso de esta forma.\n",
        "2. Utilizando fórmulas de $\\LaTeX$ calcule cuántos casos existen.\n",
        "3. Cree un programa en Python para calcule cuántos casos existen.\n",
        "4. Cree un programa en Python para imprimir todas las posibilidades y numérelas. Por ejemplo:\n",
        "    - 1 ABCD\n",
        "    - 2 ABDC\n",
        "    - 3 ACBD\n",
        "    - &#20; &#20; &#20; ... ... ..."
      ],
      "metadata": {
        "id": "6oyoxqfbQJDC"
      }
    },
    {
      "cell_type": "markdown",
      "source": [
        "### Solución 1.1\n",
        "* Estamos ante un caso de **permutaciones sin repetición** ya que:\n",
        " - El orden importa, no es lo mismo estar el nº1 que significa ser presidente que el nº 4 que corresponde al tesorero.\n",
        " - Intervienen todos. Son 4 amigos para 4 cargos, todos tienen cargo, lo que cambiar es el orden, esto es, el cargo que obtengan.\n",
        " - No se repiten elementos. Una persona no puede tener dos cargos simultaneamente.\n",
        "* Los casos que se obtienen con las permutaciones sin repetición son $P_{n}=n!$ que para este ejemplo son:\n",
        "\n",
        "$$P_{4}=4!=4 \\cdot 3 \\cdot 2 \\cdot 1 = 24$$"
      ],
      "metadata": {
        "id": "t5unIqR7jdZR"
      }
    },
    {
      "cell_type": "code",
      "source": [
        "import math\n",
        "p = math.factorial(4)\n",
        "print(\"Los casos son: \", p)\n",
        "print(\"Comprobación:  \", 4*3*2*1)"
      ],
      "metadata": {
        "id": "va3_l_-hmFS-"
      },
      "execution_count": null,
      "outputs": []
    },
    {
      "cell_type": "markdown",
      "source": [
        "#### Método 1\n",
        "Sin usar librería."
      ],
      "metadata": {
        "id": "kOM3pEAGnh8v"
      }
    },
    {
      "cell_type": "code",
      "source": [
        "lista = ['A', 'B', 'C', 'D']\n",
        "contador = 1\n",
        "\n",
        "for i in lista:\n",
        "    for j in lista:\n",
        "        for k in lista:\n",
        "            for l in lista:\n",
        "                if i != j and i != k and i != l and j != k and j != l and k != l:\n",
        "                    print(f\"{contador:2d} →  {i+j+k+l}\")\n",
        "                    contador += 1"
      ],
      "metadata": {
        "id": "5--ZpSoJncj3"
      },
      "execution_count": null,
      "outputs": []
    },
    {
      "cell_type": "markdown",
      "source": [
        "#### Método 2\n",
        "* Usamos la función `permutations` de la librería `itertools`.\n",
        "* Imprimimos todas las permutaciones de los elementos de una lista."
      ],
      "metadata": {
        "id": "2PoCD5GlnwS1"
      }
    },
    {
      "cell_type": "code",
      "source": [
        "from itertools import permutations\n",
        "\n",
        "perm = permutations(['A','B','C','D'])   # obtenemos todas las permutaciones de la lista \n",
        "\n",
        "for i in list(perm):                     # imprimimos todas las permutaciones \n",
        "    print (*i)                           # con el asterisco se muestran las listas sin corchetes ni comas"
      ],
      "metadata": {
        "id": "eKkB1gQnn6_P",
        "outputId": "f3108dd0-2bef-41f3-d4bc-35a3627ec192",
        "colab": {
          "base_uri": "https://localhost:8080/"
        }
      },
      "execution_count": null,
      "outputs": [
        {
          "output_type": "stream",
          "name": "stdout",
          "text": [
            "A B C D\n",
            "A B D C\n",
            "A C B D\n",
            "A C D B\n",
            "A D B C\n",
            "A D C B\n",
            "B A C D\n",
            "B A D C\n",
            "B C A D\n",
            "B C D A\n",
            "B D A C\n",
            "B D C A\n",
            "C A B D\n",
            "C A D B\n",
            "C B A D\n",
            "C B D A\n",
            "C D A B\n",
            "C D B A\n",
            "D A B C\n",
            "D A C B\n",
            "D B A C\n",
            "D B C A\n",
            "D C A B\n",
            "D C B A\n"
          ]
        }
      ]
    },
    {
      "cell_type": "markdown",
      "source": [
        "## Práctica 1.2\n",
        "Cuatro amigos:\n",
        "* Antonio (A)\n",
        "* Begoña (B)\n",
        "* Cesar (C)\n",
        "* Diana (D)\n",
        "\n",
        "constituyen una asociación y tienen que asignar los siguientes cargos:\n",
        "* Presiente (1)\n",
        "* Secretario (3)\n",
        "* Tesorero (4)\n",
        "\n",
        "Se pide:\n",
        "1. Escribiendo la solución en una celda de Markdown analice el caso indicando si se trata de variaciones, permutaciones o combinaciones, con o sin repetición o el caso que sea, y el motivo para clasificar el caso de esta forma.\n",
        "2. Utilizando fórmulas de $\\LaTeX$ calcule cuántos casos existen.\n",
        "3. Cree un programa en Python para calcule cuántos casos existen.\n",
        "4. Cree un programa en Python para imprimir todas las posibilidades y numérelas. Por ejemplo:\n",
        "    - 1 ABC\n",
        "    - 2 ABD\n",
        "    - 3 ACB\n",
        "    - &#20; &#20; &#20; ... ... ..."
      ],
      "metadata": {
        "id": "sxSuCpAFSBPJ"
      }
    },
    {
      "cell_type": "markdown",
      "source": [
        "### Solución 1.2"
      ],
      "metadata": {
        "id": "xx9qsw_ej9Pd"
      }
    },
    {
      "cell_type": "markdown",
      "source": [
        "1.Como se trasta de 4 amigos y hay 3 cargos todos los elementos no intervienen, además, no puede repetirse ya que parto de la lógica de que una misma persona no puede tener dos cargos diferentes, para concluir el orden influye ya que no es lo mismo ser presidente(posición1) que secretario(posición3) es por ello que es una **variación sin repeticion**.\n",
        "En este caso sería:\n",
        "$$V_{4,3}=\\frac{4!}{(4-3))!}= 24$$"
      ],
      "metadata": {
        "id": "6hmh86RZLb5Z"
      }
    },
    {
      "cell_type": "code",
      "source": [
        "import math\n",
        "\n",
        "print (\"Las variaciones de 4 elementos tomados de 3 en 3 son: : \", end=\"\")\n",
        "\n",
        "print (math.factorial(4)/math.factorial(4-3))"
      ],
      "metadata": {
        "colab": {
          "base_uri": "https://localhost:8080/"
        },
        "id": "ousGm0g_LW0C",
        "outputId": "3881d1be-2bde-4300-cb92-1496327cef31"
      },
      "execution_count": null,
      "outputs": [
        {
          "output_type": "stream",
          "name": "stdout",
          "text": [
            "Las variaciones de 4 elementos tomados de 3 en 3 son: : 24.0\n"
          ]
        }
      ]
    },
    {
      "cell_type": "code",
      "source": [
        "import itertools\n",
        "it = itertools.permutations(['a','b','c','d'], 3)\n",
        "li = list(it)\n",
        "print(\"Estas son todas las variaciones posibles:\")\n",
        "\n",
        "\n",
        "for i in range(len(li)):\n",
        "    print(f\"La variación {i+1:2d}-> \", *li[i])"
      ],
      "metadata": {
        "colab": {
          "base_uri": "https://localhost:8080/"
        },
        "id": "9CuHjVIQLULT",
        "outputId": "776fdf51-e24e-4fe7-97e1-f9269ce6900f"
      },
      "execution_count": null,
      "outputs": [
        {
          "output_type": "stream",
          "name": "stdout",
          "text": [
            "Estas son todas las variaciones posibles:\n",
            "La variación  1->  a b c\n",
            "La variación  2->  a b d\n",
            "La variación  3->  a c b\n",
            "La variación  4->  a c d\n",
            "La variación  5->  a d b\n",
            "La variación  6->  a d c\n",
            "La variación  7->  b a c\n",
            "La variación  8->  b a d\n",
            "La variación  9->  b c a\n",
            "La variación 10->  b c d\n",
            "La variación 11->  b d a\n",
            "La variación 12->  b d c\n",
            "La variación 13->  c a b\n",
            "La variación 14->  c a d\n",
            "La variación 15->  c b a\n",
            "La variación 16->  c b d\n",
            "La variación 17->  c d a\n",
            "La variación 18->  c d b\n",
            "La variación 19->  d a b\n",
            "La variación 20->  d a c\n",
            "La variación 21->  d b a\n",
            "La variación 22->  d b c\n",
            "La variación 23->  d c a\n",
            "La variación 24->  d c b\n"
          ]
        }
      ]
    },
    {
      "cell_type": "markdown",
      "source": [
        "## Práctica 1.3\n",
        "Invente un caso de **variaciones sin repetición**.\n",
        "Se pide contestar a los mismos puntos que el caso anterior."
      ],
      "metadata": {
        "id": "D0S1DjF4MKmz"
      }
    },
    {
      "cell_type": "markdown",
      "source": [
        "Hay 4 coches:\n",
        "* Lamborghini\n",
        "*Porsche\n",
        "*Ferrari\n",
        "*Mclaren\n",
        "\n",
        "El Porsche está tuneado y por eso puede correr a velocidades similares que los otros.Los coches se juegan el **1** puesto, el **2** puesto y el **3** puesto"
      ],
      "metadata": {
        "id": "VEzsm9GUvjyL"
      }
    },
    {
      "cell_type": "markdown",
      "source": [
        "### Solución 1.3\n",
        "El **orden importa** ya que no es lo mismo acabar primero que tercero, **No todos los elementos intervienen** ya que hay uno de ellos que se queda fuera y un mismo coche no puede quedar en dos puestos similares así que **no hay repetición**.\n",
        "\n",
        "Se trata de una **variación sin repetición**\n",
        "\n",
        "En este caso:\n",
        "$$V_{4,3}=\\frac{4!}{(4-3))!}= 24$$"
      ],
      "metadata": {
        "id": "AfyuPIASj_20"
      }
    },
    {
      "cell_type": "code",
      "source": [
        "import math\n",
        "\n",
        "print (\"El número total de variaciones sin repetición es de ->  \", end=\"\")\n",
        "\n",
        "print (math.factorial(4)/math.factorial(4-3))"
      ],
      "metadata": {
        "id": "znufG4WwyltD",
        "outputId": "a0a5432d-8543-4dca-cb27-e4ff52b3fa10",
        "colab": {
          "base_uri": "https://localhost:8080/"
        }
      },
      "execution_count": null,
      "outputs": [
        {
          "output_type": "stream",
          "name": "stdout",
          "text": [
            "El número total de variaciones sin repetición es de ->  24.0\n"
          ]
        }
      ]
    },
    {
      "cell_type": "code",
      "source": [
        "import itertools\n",
        "it = itertools.permutations(['Lamborghini','Porsche','Ferrari','Mclaren'],3)\n",
        "li = list(it)\n",
        "print(\"Este es el total de variaciones que hay:\")\n",
        "\n",
        "\n",
        "for i in range(len(li)):\n",
        "    \n",
        "    print(f\"Variación {i+1:2d}: \", *li[i])"
      ],
      "metadata": {
        "id": "jt7akzSqyIga",
        "outputId": "31e372eb-3186-44b2-adc0-af9250e34690",
        "colab": {
          "base_uri": "https://localhost:8080/"
        }
      },
      "execution_count": null,
      "outputs": [
        {
          "output_type": "stream",
          "name": "stdout",
          "text": [
            "Este es el total de variaciones que hay:\n",
            "Variación  1:  Lamborghini Porsche Ferrari\n",
            "Variación  2:  Lamborghini Porsche Mclaren\n",
            "Variación  3:  Lamborghini Ferrari Porsche\n",
            "Variación  4:  Lamborghini Ferrari Mclaren\n",
            "Variación  5:  Lamborghini Mclaren Porsche\n",
            "Variación  6:  Lamborghini Mclaren Ferrari\n",
            "Variación  7:  Porsche Lamborghini Ferrari\n",
            "Variación  8:  Porsche Lamborghini Mclaren\n",
            "Variación  9:  Porsche Ferrari Lamborghini\n",
            "Variación 10:  Porsche Ferrari Mclaren\n",
            "Variación 11:  Porsche Mclaren Lamborghini\n",
            "Variación 12:  Porsche Mclaren Ferrari\n",
            "Variación 13:  Ferrari Lamborghini Porsche\n",
            "Variación 14:  Ferrari Lamborghini Mclaren\n",
            "Variación 15:  Ferrari Porsche Lamborghini\n",
            "Variación 16:  Ferrari Porsche Mclaren\n",
            "Variación 17:  Ferrari Mclaren Lamborghini\n",
            "Variación 18:  Ferrari Mclaren Porsche\n",
            "Variación 19:  Mclaren Lamborghini Porsche\n",
            "Variación 20:  Mclaren Lamborghini Ferrari\n",
            "Variación 21:  Mclaren Porsche Lamborghini\n",
            "Variación 22:  Mclaren Porsche Ferrari\n",
            "Variación 23:  Mclaren Ferrari Lamborghini\n",
            "Variación 24:  Mclaren Ferrari Porsche\n"
          ]
        }
      ]
    },
    {
      "cell_type": "markdown",
      "source": [
        "## Práctica 1.4\n",
        "Alejandro quiere saber con una contraseña 4 números del 1 al 5 cuantas contraseñas puede realizar.\n",
        "\n",
        "\n",
        "\n",
        "\n",
        "\n"
      ],
      "metadata": {
        "id": "gvlnqCaRMTua"
      }
    },
    {
      "cell_type": "markdown",
      "source": [
        "### Solución 1.4\n",
        "\n"
      ],
      "metadata": {
        "id": "hzvsgRDbkCy1"
      }
    },
    {
      "cell_type": "code",
      "source": [
        "import itertools \n",
        "\n",
        "def variaciones_con_repeticion(n, seq):\n",
        "      contador=0\n",
        "      for p in itertools.product(seq, repeat=n):\n",
        "            contador+= 1\n",
        "            print(contador, \"\".join(p))\n",
        "\n",
        "secuencia = '12345'\n",
        "m= len(secuencia)\n",
        "n= 3\n",
        "variaciones_con_repeticion(n,secuencia)\n",
        "\n",
        "print(f\"El número de variaciones con repetición  son {m**n}\")"
      ],
      "metadata": {
        "id": "4kBW6iVcF85r",
        "colab": {
          "base_uri": "https://localhost:8080/"
        },
        "outputId": "e0a8564d-c223-42e2-8116-fd6526a0ec3e"
      },
      "execution_count": null,
      "outputs": [
        {
          "output_type": "stream",
          "name": "stdout",
          "text": [
            "1 111\n",
            "2 112\n",
            "3 113\n",
            "4 114\n",
            "5 115\n",
            "6 121\n",
            "7 122\n",
            "8 123\n",
            "9 124\n",
            "10 125\n",
            "11 131\n",
            "12 132\n",
            "13 133\n",
            "14 134\n",
            "15 135\n",
            "16 141\n",
            "17 142\n",
            "18 143\n",
            "19 144\n",
            "20 145\n",
            "21 151\n",
            "22 152\n",
            "23 153\n",
            "24 154\n",
            "25 155\n",
            "26 211\n",
            "27 212\n",
            "28 213\n",
            "29 214\n",
            "30 215\n",
            "31 221\n",
            "32 222\n",
            "33 223\n",
            "34 224\n",
            "35 225\n",
            "36 231\n",
            "37 232\n",
            "38 233\n",
            "39 234\n",
            "40 235\n",
            "41 241\n",
            "42 242\n",
            "43 243\n",
            "44 244\n",
            "45 245\n",
            "46 251\n",
            "47 252\n",
            "48 253\n",
            "49 254\n",
            "50 255\n",
            "51 311\n",
            "52 312\n",
            "53 313\n",
            "54 314\n",
            "55 315\n",
            "56 321\n",
            "57 322\n",
            "58 323\n",
            "59 324\n",
            "60 325\n",
            "61 331\n",
            "62 332\n",
            "63 333\n",
            "64 334\n",
            "65 335\n",
            "66 341\n",
            "67 342\n",
            "68 343\n",
            "69 344\n",
            "70 345\n",
            "71 351\n",
            "72 352\n",
            "73 353\n",
            "74 354\n",
            "75 355\n",
            "76 411\n",
            "77 412\n",
            "78 413\n",
            "79 414\n",
            "80 415\n",
            "81 421\n",
            "82 422\n",
            "83 423\n",
            "84 424\n",
            "85 425\n",
            "86 431\n",
            "87 432\n",
            "88 433\n",
            "89 434\n",
            "90 435\n",
            "91 441\n",
            "92 442\n",
            "93 443\n",
            "94 444\n",
            "95 445\n",
            "96 451\n",
            "97 452\n",
            "98 453\n",
            "99 454\n",
            "100 455\n",
            "101 511\n",
            "102 512\n",
            "103 513\n",
            "104 514\n",
            "105 515\n",
            "106 521\n",
            "107 522\n",
            "108 523\n",
            "109 524\n",
            "110 525\n",
            "111 531\n",
            "112 532\n",
            "113 533\n",
            "114 534\n",
            "115 535\n",
            "116 541\n",
            "117 542\n",
            "118 543\n",
            "119 544\n",
            "120 545\n",
            "121 551\n",
            "122 552\n",
            "123 553\n",
            "124 554\n",
            "125 555\n",
            "El número de variaciones con repetición  son 125\n"
          ]
        }
      ]
    },
    {
      "cell_type": "markdown",
      "source": [
        "## Práctica 1.5\n",
        "Carlos tiene un nuevo teléfono y está en ajustes guardando contraseñas y quiere saber con los números 4,2 y 8 cuantas combinaciones posibles hay (siendo cada número distinto).\n",
        "\n"
      ],
      "metadata": {
        "id": "0OCAC-I-G5F6"
      }
    },
    {
      "cell_type": "markdown",
      "source": [
        "### Solución 1.5\n",
        "\n",
        "En este caso el orden influye ya que 4,8,2 no es lo mismo a 8,2,4. Además, al ser cada contraseña diferente no se pueden repetir, ya que los números han de ser distintos y para concluir todos los elementos intervienen.\n",
        "\n",
        "Es por ello que se trata de una **permutación sin repetición**\n",
        "\n",
        "En este caso en concreto la fórmula sería tal que así:\n",
        "\n",
        "$$3!=3 \\cdot 2 \\cdot 1 = 6$$"
      ],
      "metadata": {
        "id": "FvLcj6XXkFOV"
      }
    },
    {
      "cell_type": "code",
      "source": [
        "lista = ['8', '2', '4']\n",
        "print(\"Este es el total de contraseñas posibles:\")\n",
        "for i in lista:\n",
        "   for j in lista:\n",
        "    for k in lista:\n",
        "        if i != j and i != k  and j != k  :\n",
        "         print(i+j+k)\n",
        "         \n",
        "          "
      ],
      "metadata": {
        "id": "64GjVeJdL4Gs",
        "colab": {
          "base_uri": "https://localhost:8080/"
        },
        "outputId": "87c78078-5654-437a-e279-f5882fd2eb7a"
      },
      "execution_count": null,
      "outputs": [
        {
          "output_type": "stream",
          "name": "stdout",
          "text": [
            "Este es el total de contraseñas posibles:\n",
            "824\n",
            "842\n",
            "284\n",
            "248\n",
            "482\n",
            "428\n"
          ]
        }
      ]
    },
    {
      "cell_type": "markdown",
      "source": [
        "## Práctica 1.6\n",
        "Carlos quiere hacer saber cuantas banderas puede crear con el color blanco el azul y el verde\n",
        "\n",
        "¿Cuantas banderas puede crear?"
      ],
      "metadata": {
        "id": "YWUXIczqLj3W"
      }
    },
    {
      "cell_type": "markdown",
      "source": [
        "### Solución 1.6\n",
        "Se trata de una permutación con repetición ya que influye el orden ya que no es lo mismo azul verde y blanco que verde blanco y azul. Además intervienten todos los elementos y si se repiten los elementos."
      ],
      "metadata": {
        "id": "siAxWVVekHs6"
      }
    },
    {
      "cell_type": "markdown",
      "source": [
        "$PR_{m}^{n_1,n_2...n_k}=\\frac{m!}{n_1!·n_2!·...n_k!}·$"
      ],
      "metadata": {
        "id": "CFFa56KVS0oz"
      }
    },
    {
      "cell_type": "code",
      "source": [
        "lista = ['Blanco', 'Azúl ',' Verde']\n",
        "\n",
        "for i in lista:\n",
        "    for j in lista:\n",
        "        for k in lista:\n",
        "            for l in lista:\n",
        "                    print(i+j+k)\n",
        "                   "
      ],
      "metadata": {
        "colab": {
          "base_uri": "https://localhost:8080/"
        },
        "id": "9nG1Izh-RXyL",
        "outputId": "e4034581-132f-491c-c074-f93939c3857a"
      },
      "execution_count": null,
      "outputs": [
        {
          "output_type": "stream",
          "name": "stdout",
          "text": [
            "BlancoBlancoBlanco\n",
            "BlancoBlancoBlanco\n",
            "BlancoBlancoBlanco\n",
            "BlancoBlancoAzúl \n",
            "BlancoBlancoAzúl \n",
            "BlancoBlancoAzúl \n",
            "BlancoBlanco Verde\n",
            "BlancoBlanco Verde\n",
            "BlancoBlanco Verde\n",
            "BlancoAzúl Blanco\n",
            "BlancoAzúl Blanco\n",
            "BlancoAzúl Blanco\n",
            "BlancoAzúl Azúl \n",
            "BlancoAzúl Azúl \n",
            "BlancoAzúl Azúl \n",
            "BlancoAzúl  Verde\n",
            "BlancoAzúl  Verde\n",
            "BlancoAzúl  Verde\n",
            "Blanco VerdeBlanco\n",
            "Blanco VerdeBlanco\n",
            "Blanco VerdeBlanco\n",
            "Blanco VerdeAzúl \n",
            "Blanco VerdeAzúl \n",
            "Blanco VerdeAzúl \n",
            "Blanco Verde Verde\n",
            "Blanco Verde Verde\n",
            "Blanco Verde Verde\n",
            "Azúl BlancoBlanco\n",
            "Azúl BlancoBlanco\n",
            "Azúl BlancoBlanco\n",
            "Azúl BlancoAzúl \n",
            "Azúl BlancoAzúl \n",
            "Azúl BlancoAzúl \n",
            "Azúl Blanco Verde\n",
            "Azúl Blanco Verde\n",
            "Azúl Blanco Verde\n",
            "Azúl Azúl Blanco\n",
            "Azúl Azúl Blanco\n",
            "Azúl Azúl Blanco\n",
            "Azúl Azúl Azúl \n",
            "Azúl Azúl Azúl \n",
            "Azúl Azúl Azúl \n",
            "Azúl Azúl  Verde\n",
            "Azúl Azúl  Verde\n",
            "Azúl Azúl  Verde\n",
            "Azúl  VerdeBlanco\n",
            "Azúl  VerdeBlanco\n",
            "Azúl  VerdeBlanco\n",
            "Azúl  VerdeAzúl \n",
            "Azúl  VerdeAzúl \n",
            "Azúl  VerdeAzúl \n",
            "Azúl  Verde Verde\n",
            "Azúl  Verde Verde\n",
            "Azúl  Verde Verde\n",
            " VerdeBlancoBlanco\n",
            " VerdeBlancoBlanco\n",
            " VerdeBlancoBlanco\n",
            " VerdeBlancoAzúl \n",
            " VerdeBlancoAzúl \n",
            " VerdeBlancoAzúl \n",
            " VerdeBlanco Verde\n",
            " VerdeBlanco Verde\n",
            " VerdeBlanco Verde\n",
            " VerdeAzúl Blanco\n",
            " VerdeAzúl Blanco\n",
            " VerdeAzúl Blanco\n",
            " VerdeAzúl Azúl \n",
            " VerdeAzúl Azúl \n",
            " VerdeAzúl Azúl \n",
            " VerdeAzúl  Verde\n",
            " VerdeAzúl  Verde\n",
            " VerdeAzúl  Verde\n",
            " Verde VerdeBlanco\n",
            " Verde VerdeBlanco\n",
            " Verde VerdeBlanco\n",
            " Verde VerdeAzúl \n",
            " Verde VerdeAzúl \n",
            " Verde VerdeAzúl \n",
            " Verde Verde Verde\n",
            " Verde Verde Verde\n",
            " Verde Verde Verde\n"
          ]
        }
      ]
    },
    {
      "cell_type": "code",
      "source": [],
      "metadata": {
        "id": "HawKKT84aUES"
      },
      "execution_count": null,
      "outputs": []
    },
    {
      "cell_type": "markdown",
      "source": [
        "## Práctica 1.7\n",
        "Vas a un restaurante italiano y te fijas en las pizzas, hay una promoción que te permite hacer tu propia pizza customizada, debes de entre los 6 ingredientes elegir 4 para tu pizza. Entre estos se encuentran:\n",
        "* Queso Cheddar (A)\n",
        "*Queso Gouda (B)\n",
        "* Jamón York (C)\n",
        "* Jamón Ibérico (D)\n",
        "* Chorizo (E)\n",
        "* Carne (F)\n",
        "\n",
        "*¿Cuantas combinaciones puedes hacer con estos ingredientes?*\n",
        "\n"
      ],
      "metadata": {
        "id": "opCrIDtJGg1R"
      }
    },
    {
      "cell_type": "markdown",
      "source": [
        "##Solución 1.7\n",
        "\n",
        "Se trata de una **combinación sin repetición** ya que no influye el orden ya que da igual poner carne y queso que queso y carne. Por otra parte no se pueden repetir ya que debes de elegir 5 ingredientes diferentes para tu pizza. \n",
        "\n",
        "En este caso la fórmula sería de la siguiente forma:\n",
        "$$\\binom{6}{4} =\\frac{6!}{4!(6-4)!} = \\frac{6!}{4!2!} = 15$$"
      ],
      "metadata": {
        "id": "PVd4-ZgZKDWs"
      }
    },
    {
      "cell_type": "code",
      "source": [
        "from itertools import combinations\n",
        "c = combinations('ABCDEF',4)\n",
        "\n",
        "for i in c:\n",
        "    print(\"\".join(i), end=\" \")\n",
        "    print() \n",
        "\n"
      ],
      "metadata": {
        "id": "LOb-gGOwUdsr",
        "outputId": "4b8aa374-6f57-412d-a3db-7c4b43b8dc62",
        "colab": {
          "base_uri": "https://localhost:8080/"
        }
      },
      "execution_count": null,
      "outputs": [
        {
          "output_type": "stream",
          "name": "stdout",
          "text": [
            "ABCD \n",
            "ABCE \n",
            "ABCF \n",
            "ABDE \n",
            "ABDF \n",
            "ABEF \n",
            "ACDE \n",
            "ACDF \n",
            "ACEF \n",
            "ADEF \n",
            "BCDE \n",
            "BCDF \n",
            "BCEF \n",
            "BDEF \n",
            "CDEF \n"
          ]
        }
      ]
    },
    {
      "cell_type": "markdown",
      "source": [
        "## Práctica 1.8\n",
        "\n",
        "Se pide contestar a los mismos puntos que el caso anterior.\n",
        "En una tienda de videojuegos he ganado un sorteo que me permite escoger entre cinco tipos de videojuegos cuatro de ellos. ¿De cuántas formas puedo escoger cuatro videojuegos?\n",
        "\n",
        "Tipos de videojuegos: (A,B,C,D)"
      ],
      "metadata": {
        "id": "-7Y5WWlDGzAR"
      }
    },
    {
      "cell_type": "markdown",
      "source": [
        "### Solución 1.8\n",
        "Se trata de una **combinación con repetición**, el orden no influye ya que da igual que escoja primero uno de estrategia y luego uno de conducción. No intervienen todos los elementos y sí se pueden repetir los elementos ya que puedo elegir dos juegos del mismo tipo.\n",
        "\n",
        "En este caso la fórmula sería tal que:\n",
        "$$CR^4_5 = \\binom{5+4-1}{4} = \\frac{(5+4-1)!}{4! \\cdot (5-1)!}=70 $$"
      ],
      "metadata": {
        "id": "ReRULqd8kL1F"
      }
    },
    {
      "cell_type": "code",
      "source": [
        "from itertools import combinations_with_replacement\n",
        "c = combinations_with_replacement('ABDCE', 4)\n",
        "\n",
        "for i in c:\n",
        "    print(*i)\n",
        "     \n",
        "\n",
        "m = 5\n",
        "n = 4\n",
        "print(f\"Los casos que se obtienen son {int(factorial(m+n-1)/factorial(n)/factorial(m-1))}\")"
      ],
      "metadata": {
        "colab": {
          "base_uri": "https://localhost:8080/"
        },
        "id": "SlkcV14PN0ID",
        "outputId": "cf929f2b-2410-4d7b-d614-e3084289dacd"
      },
      "execution_count": null,
      "outputs": [
        {
          "output_type": "stream",
          "name": "stdout",
          "text": [
            "A A A A\n",
            "A A A B\n",
            "A A A D\n",
            "A A A C\n",
            "A A A E\n",
            "A A B B\n",
            "A A B D\n",
            "A A B C\n",
            "A A B E\n",
            "A A D D\n",
            "A A D C\n",
            "A A D E\n",
            "A A C C\n",
            "A A C E\n",
            "A A E E\n",
            "A B B B\n",
            "A B B D\n",
            "A B B C\n",
            "A B B E\n",
            "A B D D\n",
            "A B D C\n",
            "A B D E\n",
            "A B C C\n",
            "A B C E\n",
            "A B E E\n",
            "A D D D\n",
            "A D D C\n",
            "A D D E\n",
            "A D C C\n",
            "A D C E\n",
            "A D E E\n",
            "A C C C\n",
            "A C C E\n",
            "A C E E\n",
            "A E E E\n",
            "B B B B\n",
            "B B B D\n",
            "B B B C\n",
            "B B B E\n",
            "B B D D\n",
            "B B D C\n",
            "B B D E\n",
            "B B C C\n",
            "B B C E\n",
            "B B E E\n",
            "B D D D\n",
            "B D D C\n",
            "B D D E\n",
            "B D C C\n",
            "B D C E\n",
            "B D E E\n",
            "B C C C\n",
            "B C C E\n",
            "B C E E\n",
            "B E E E\n",
            "D D D D\n",
            "D D D C\n",
            "D D D E\n",
            "D D C C\n",
            "D D C E\n",
            "D D E E\n",
            "D C C C\n",
            "D C C E\n",
            "D C E E\n",
            "D E E E\n",
            "C C C C\n",
            "C C C E\n",
            "C C E E\n",
            "C E E E\n",
            "E E E E\n",
            "Los casos que se obtienen son 70\n"
          ]
        }
      ]
    },
    {
      "cell_type": "markdown",
      "source": [
        "## Práctica 1.9\n",
        "En el gobierno se crea una unidad de crisis formada por el presidente (P) y 4 ministros (A,B,C,D) que se reúnen sentados alrededor de una **mesa redonda**.\n",
        "\n",
        "Se pide:  \n",
        "1. Calcule de cuantas formas pueden llegar a sentarse si el ministro de defensa (D) siempre ha de estar al lado del presidente (P). Escriba la solución en una celda de Markdown utilizando fórmulas en $\\LaTeX$  explicando el caso.\n",
        "2. Cree un programa en Python para calcular el número de casos que se pueden dar al sentarse en la mesa.\n",
        "3. Cree un programa en Python para imprimir todas las posibilidades y numérelas. Por ejemplo:\n",
        "    - 1 PDABC\n",
        "    - 2 PDACB\n",
        "    - 3 PDBCD\n",
        "    - 4 PDBDC\n",
        "    - 5 PDCAB\n",
        "    - 6 PDCBA\n",
        "    - 7 DPABC\n",
        "    - 8 DPACB\n",
        "    - &#20; &#20; &#20; ... ... ...\n"
      ],
      "metadata": {
        "id": "SOzxh_YgHnDG"
      }
    },
    {
      "cell_type": "markdown",
      "source": [
        "### Solución 1.9\n"
      ],
      "metadata": {
        "id": "F8kV034OkQZX"
      }
    },
    {
      "cell_type": "code",
      "source": [
        "from itertools import permutations\n",
        "\n",
        "p = list(permutations('ABC'))   \n",
        "\n",
        "\n",
        "\n",
        "texto = ''   \n",
        "\n",
        "for v in p:\n",
        "\n",
        "    texto += 'PD' + ''.join(v) + ','   \n",
        "\n",
        "for v in p:\n",
        "\n",
        "    texto += 'DP' + ''.join(v) + ','   \n",
        "\n",
        "\n",
        "\n",
        "print(texto[:-1])  "
      ],
      "metadata": {
        "colab": {
          "base_uri": "https://localhost:8080/"
        },
        "id": "X-iQZiU6bhwS",
        "outputId": "0e83ce25-6822-4fd0-cd0b-21464563289a"
      },
      "execution_count": null,
      "outputs": [
        {
          "output_type": "stream",
          "name": "stdout",
          "text": [
            "PDABC,PDACB,PDBAC,PDBCA,PDCAB,PDCBA,DPABC,DPACB,DPBAC,DPBCA,DPCAB,DPCBA\n"
          ]
        }
      ]
    },
    {
      "cell_type": "markdown",
      "source": [
        "## Práctica 1.10\n",
        "* Realice una breve explicación teórica del **triángulo de Pascal**, o también llamado triángulo de Tartaglia, y de las fórmulas de los números combinatorios.\n",
        "* Cree un programa en Python para hacer el triángulo de Pascal."
      ],
      "metadata": {
        "id": "eiHdMOP-MkrZ"
      }
    },
    {
      "cell_type": "markdown",
      "source": [
        "### Solución 1.10\n",
        "Se trata de un triángulo, este triángulo está formado por números enteros, además este es infinito y también simétrico. Se comienza con el número 1 en el pico del triángulo y se van posicionando números que entre ellos son la suma de los dos números que tienen encima ( explicado es un poco dificil de entender pero con el programa en Python se entenderá mejor)\n",
        "\n",
        "En este programa vas a poder introducir el número de filas que quieres que este compuesto el triángulo de Pascal y así ver como funciona\n",
        "\n",
        "El programa en cuestión:"
      ],
      "metadata": {
        "id": "j0UT2579kTSM"
      }
    },
    {
      "cell_type": "code",
      "source": [
        "num = int(input(\"Por favor, escribe el número de filas que deseas en el triángulo:\"))\n",
        "  \n",
        "for n in range(num):\n",
        "    print(' '*(num-n), end='')\n",
        "\n",
        "    print(' '.join(map(str, str(11**n))))"
      ],
      "metadata": {
        "id": "BGgXyBzxCIyZ"
      },
      "execution_count": null,
      "outputs": []
    }
  ]
}